{
 "cells": [
  {
   "cell_type": "code",
   "execution_count": 1,
   "metadata": {},
   "outputs": [],
   "source": [
    "import os "
   ]
  },
  {
   "cell_type": "code",
   "execution_count": 1,
   "metadata": {},
   "outputs": [],
   "source": [
    "dir='<directory to store generated job scripts>'\n",
    "# os.mkdir(dir)\n",
    "# %rm <directory to store generated job scripts>"
   ]
  },
  {
   "cell_type": "code",
   "execution_count": 2,
   "metadata": {},
   "outputs": [
    {
     "ename": "NameError",
     "evalue": "name 'os' is not defined",
     "output_type": "error",
     "traceback": [
      "\u001b[0;31m---------------------------------------------------------------------------\u001b[0m",
      "\u001b[0;31mNameError\u001b[0m                                 Traceback (most recent call last)",
      "\u001b[0;32m<ipython-input-2-3c0bc6615932>\u001b[0m in \u001b[0;36m<module>\u001b[0;34m\u001b[0m\n\u001b[1;32m      2\u001b[0m \u001b[0;34m\u001b[0m\u001b[0m\n\u001b[1;32m      3\u001b[0m \u001b[0;32mfor\u001b[0m \u001b[0msubdir\u001b[0m \u001b[0;32min\u001b[0m \u001b[0msubdirs\u001b[0m\u001b[0;34m:\u001b[0m\u001b[0;34m\u001b[0m\u001b[0;34m\u001b[0m\u001b[0m\n\u001b[0;32m----> 4\u001b[0;31m     \u001b[0msubdirfull\u001b[0m\u001b[0;34m=\u001b[0m\u001b[0mos\u001b[0m\u001b[0;34m.\u001b[0m\u001b[0mpath\u001b[0m\u001b[0;34m.\u001b[0m\u001b[0mjoin\u001b[0m\u001b[0;34m(\u001b[0m\u001b[0mdir\u001b[0m\u001b[0;34m,\u001b[0m\u001b[0msubdir\u001b[0m\u001b[0;34m)\u001b[0m\u001b[0;34m\u001b[0m\u001b[0;34m\u001b[0m\u001b[0m\n\u001b[0m\u001b[1;32m      5\u001b[0m     \u001b[0;32mif\u001b[0m \u001b[0;32mnot\u001b[0m \u001b[0mos\u001b[0m\u001b[0;34m.\u001b[0m\u001b[0mpath\u001b[0m\u001b[0;34m.\u001b[0m\u001b[0misdir\u001b[0m\u001b[0;34m(\u001b[0m\u001b[0msubdirfull\u001b[0m\u001b[0;34m)\u001b[0m\u001b[0;34m:\u001b[0m\u001b[0;34m\u001b[0m\u001b[0;34m\u001b[0m\u001b[0m\n\u001b[1;32m      6\u001b[0m         \u001b[0mos\u001b[0m\u001b[0;34m.\u001b[0m\u001b[0mmkdir\u001b[0m\u001b[0;34m(\u001b[0m\u001b[0msubdirfull\u001b[0m\u001b[0;34m)\u001b[0m\u001b[0;34m\u001b[0m\u001b[0;34m\u001b[0m\u001b[0m\n",
      "\u001b[0;31mNameError\u001b[0m: name 'os' is not defined"
     ]
    }
   ],
   "source": [
    "subdirs=['fp32-O0-Adam','fp32-O1-Adam','fp32-O2-Adam','fp32-O1-AdamW','fp32-O1-LAMB']\n",
    "\n",
    "for subdir in subdirs:\n",
    "    subdirfull=os.path.join(dir,subdir)\n",
    "    if not os.path.isdir(subdirfull):\n",
    "        os.mkdir(subdirfull)\n",
    "    profs={'fw':'Forward','bw':'Backward','opt':'Optimizer'}\n",
    "    filenames=[subdir+'-'+x+'.sh' for x in ['fw','bw','opt']]\n",
    "    for fn in filenames:\n",
    "        with open(os.path.join(subdirfull,fn),'w') as f:\n",
    "            f.write('''#!/bin/bash\n",
    "#SBATCH -J {fn}\\n'''.format(fn='-'.join(fn.split('.')[0].split('-')[1:4])))\n",
    "            f.write('''#SBATCH -C gpu\n",
    "#SBATCH --gres=gpu:1\n",
    "##SBATCH --exclusive\n",
    "#SBATCH -t 04:00:00\n",
    "\n",
    "# conda activate py37pytorch \n",
    "conda activate /global/cfs/cdirs/m1759/charlene/condaenvs/py3.7pt1.5cuda10.2.89\n",
    "\\n''')\n",
    "\n",
    "            f.write('''#parameters\n",
    "run_tag=\"{}\"\\n'''.format(fn.split('.')[0].split('-')[3]))\n",
    "            f.write('''data_dir_prefix=\"<path to data directory>\"\n",
    "output_dir=$SCRATCH/mlperf-deepcam/PT-{fn}-$SLURM_JOBID\n",
    "\\n'''.format(fn=fn.split('.')[0]))\n",
    "\n",
    "            f.write('''#create files\n",
    "mkdir -p ${output_dir}\n",
    "\n",
    "# Prepare the run directory\n",
    "script_dir=<path to mlperf-deepcam/src/deepCam/>\n",
    "cp -r ${script_dir}/architecture ${output_dir}/\n",
    "cp -r ${script_dir}/data ${output_dir}/\n",
    "cp -r ${script_dir}/utils ${output_dir}/\n",
    "cp ${script_dir}/profile_hdf5_ddp.py ${output_dir}/\n",
    "cp ${script_dir}/train_hdf5_ddp.py ${output_dir}/ \\n''')\n",
    "            \n",
    "            f.write('''cp $0 ${{output_dir}}/{fn}\n",
    "cd ${{output_dir}}\n",
    "\\n'''.format(fn=fn))\n",
    "\n",
    "            f.write('''metrics=\"sm__cycles_elapsed.avg.per_second \\\\\n",
    "sm__cycles_elapsed.avg \\\\\n",
    "sm__inst_executed_pipe_tensor.sum \\\\\n",
    "sm__sass_thread_inst_executed_op_fadd_pred_on.sum \\\\\n",
    "sm__sass_thread_inst_executed_op_ffma_pred_on.sum \\\\\n",
    "sm__sass_thread_inst_executed_op_fmul_pred_on.sum \\\\\n",
    "sm__sass_thread_inst_executed_op_hadd_pred_on.sum \\\\\n",
    "sm__sass_thread_inst_executed_op_hfma_pred_on.sum \\\\\n",
    "sm__sass_thread_inst_executed_op_hmul_pred_on.sum \\\\\n",
    "dram__bytes.sum \\\\\n",
    "lts__t_bytes.sum \\\\\n",
    "l1tex__t_bytes.sum \"\n",
    "\n",
    "echo 'python version' `which python`\n",
    "\n",
    "for metric in ${metrics}; do\n",
    "\n",
    "    profilecmd=\"/usr/common/software/cuda/11.0.167/bin/nv-nsight-cu-cli --profile-from-start off --metrics ${metric} --csv --kernel-base demangled\"\n",
    "\n",
    "    srun -n 1 --cpu_bind=cores  -u \\\\\n",
    "        ${profilecmd} \\\\\n",
    "        `which python` -u ./profile_hdf5_ddp.py \\\\\n",
    "        --wireup_method \"nccl-slurm-pmi\" \\\\\n",
    "        --run_tag ${run_tag} \\\\\n",
    "        --data_dir_prefix ${data_dir_prefix} \\\\\n",
    "        --output_dir ${output_dir} \\\\\n",
    "        --max_inter_threads 0 \\\\\\n''')\n",
    "            f.write('''        --optimizer \"{optimizer}\" \\\\\\n'''.format(optimizer=fn.split('.')[0].split('-')[2]))\n",
    "            f.write('''        --start_lr 1e-3 \\\\\n",
    "        --num_warmup_steps 5 \\\\\n",
    "        --num_profile_steps 1 \\\\\\n''')\n",
    "            f.write('''        --profile \"{prof}\" \\\\\\n'''.format(prof=profs[fn.split('.')[0].split('-')[3]]))\n",
    "            f.write('''        --weight_decay 1e-2 \\\\\n",
    "        --amp_opt_level {optlevel} \\\\\\n'''.format(optlevel=fn.split('.')[0].split('-')[1]))\n",
    "            f.write('''        --local_batch_size 2 2>&1 > ${output_dir}/out.${metric} \n",
    "\n",
    "done \\n''')"
   ]
  },
  {
   "cell_type": "code",
   "execution_count": null,
   "metadata": {},
   "outputs": [],
   "source": []
  }
 ],
 "metadata": {
  "kernelspec": {
   "display_name": "Python 3",
   "language": "python",
   "name": "python3"
  },
  "language_info": {
   "codemirror_mode": {
    "name": "ipython",
    "version": 3
   },
   "file_extension": ".py",
   "mimetype": "text/x-python",
   "name": "python",
   "nbconvert_exporter": "python",
   "pygments_lexer": "ipython3",
   "version": "3.7.4"
  }
 },
 "nbformat": 4,
 "nbformat_minor": 4
}
